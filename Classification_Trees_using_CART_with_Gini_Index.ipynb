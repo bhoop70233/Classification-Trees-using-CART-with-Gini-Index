{
  "nbformat": 4,
  "nbformat_minor": 0,
  "metadata": {
    "colab": {
      "provenance": [],
      "authorship_tag": "ABX9TyNqGXjGuV3VE3jo94u7vuI3",
      "include_colab_link": true
    },
    "kernelspec": {
      "name": "python3",
      "display_name": "Python 3"
    },
    "language_info": {
      "name": "python"
    }
  },
  "cells": [
    {
      "cell_type": "markdown",
      "metadata": {
        "id": "view-in-github",
        "colab_type": "text"
      },
      "source": [
        "<a href=\"https://colab.research.google.com/github/bhoop70233/Classification-Trees-using-CART-with-Gini-Index/blob/main/Classification_Trees_using_CART_with_Gini_Index.ipynb\" target=\"_parent\"><img src=\"https://colab.research.google.com/assets/colab-badge.svg\" alt=\"Open In Colab\"/></a>"
      ]
    },
    {
      "cell_type": "code",
      "source": [
        "import numpy as np\n",
        "from collections import Counter\n",
        "\n",
        "class Node:\n",
        "    def __init__(self, gini, num_samples, num_samples_per_class, predicted_class):\n",
        "        self.gini = gini\n",
        "        self.num_samples = num_samples\n",
        "        self.num_samples_per_class = num_samples_per_class\n",
        "        self.predicted_class = predicted_class\n",
        "        self.feature_index = 0\n",
        "        self.threshold = 0\n",
        "        self.left = None\n",
        "        self.right = None\n",
        "\n",
        "def gini_impurity(y):\n",
        "    m = len(y)\n",
        "    return 1.0 - sum((np.sum(y == c) / m) ** 2 for c in np.unique(y))\n",
        "\n",
        "def best_split(X, y):\n",
        "    m, n = X.shape\n",
        "    if m <= 1:\n",
        "        return None, None\n",
        "\n",
        "    # Get unique class labels and their counts\n",
        "    classes, counts = np.unique(y, return_counts=True)\n",
        "    num_parent = dict(zip(classes, counts))\n",
        "\n",
        "    best_gini = 1.0 - sum((num / m) ** 2 for num in num_parent.values())\n",
        "    best_idx, best_thr = None, None\n",
        "\n",
        "    for idx in range(n):\n",
        "        # Sort data along selected feature\n",
        "        thresholds, classes = zip(*sorted(zip(X[:, idx], y)))\n",
        "        num_left = {c: 0 for c in num_parent}\n",
        "        num_right = num_parent.copy()\n",
        "        for i in range(1, m):\n",
        "            c = classes[i - 1]\n",
        "            num_left[c] += 1\n",
        "            num_right[c] -= 1\n",
        "            gini_left = 1.0 - sum((num_left[x] / i) ** 2 for x in num_left)\n",
        "            gini_right = 1.0 - sum((num_right[x] / (m - i)) ** 2 for x in num_right)\n",
        "            gini = (i * gini_left + (m - i) * gini_right) / m\n",
        "            if thresholds[i] == thresholds[i - 1]:\n",
        "                continue\n",
        "            if gini < best_gini:\n",
        "                best_gini = gini\n",
        "                best_idx = idx\n",
        "                best_thr = (thresholds[i] + thresholds[i - 1]) / 2\n",
        "    return best_idx, best_thr\n",
        "\n",
        "def grow_tree(X, y, depth=0, max_depth=None):\n",
        "    num_samples_per_class = [np.sum(y == i) for i in np.unique(y)]\n",
        "    predicted_class = np.argmax(num_samples_per_class)\n",
        "    node = Node(\n",
        "        gini=gini_impurity(y),\n",
        "        num_samples=len(y),\n",
        "        num_samples_per_class=num_samples_per_class,\n",
        "        predicted_class=predicted_class,\n",
        "    )\n",
        "\n",
        "    if depth < max_depth:\n",
        "        idx, thr = best_split(X, y)\n",
        "        if idx is not None:\n",
        "            indices_left = X[:, idx] < thr\n",
        "            X_left, y_left = X[indices_left], y[indices_left]\n",
        "            X_right, y_right = X[~indices_left], y[~indices_left]\n",
        "            node.feature_index = idx\n",
        "            node.threshold = thr\n",
        "            node.left = grow_tree(X_left, y_left, depth + 1, max_depth)\n",
        "            node.right = grow_tree(X_right, y_right, depth + 1, max_depth)\n",
        "    return node\n",
        "\n",
        "def predict(node, X):\n",
        "    if node.left is None and node.right is None:\n",
        "        return node.predicted_class\n",
        "    if X[node.feature_index] < node.threshold:\n",
        "        return predict(node.left, X)\n",
        "    else:\n",
        "        return predict(node.right, X)\n",
        "\n",
        "# Example usage\n",
        "X = np.array([[2.5], [5.1], [3.3], [4.7], [1.8]])\n",
        "y = np.array([0, 1, 0, 1, 0])\n",
        "\n",
        "tree = grow_tree(X, y, max_depth=3)\n",
        "\n",
        "test_point = np.array([4.0])\n",
        "prediction = predict(tree, test_point)\n",
        "print(f\"Prediction for {test_point}: {prediction}\")\n"
      ],
      "metadata": {
        "colab": {
          "base_uri": "https://localhost:8080/"
        },
        "id": "pv6Eq4GkYuZr",
        "outputId": "f7484a63-829d-4502-989f-eec526452eea"
      },
      "execution_count": 9,
      "outputs": [
        {
          "output_type": "stream",
          "name": "stdout",
          "text": [
            "Prediction for [4.]: 0\n"
          ]
        }
      ]
    },
    {
      "cell_type": "code",
      "source": [],
      "metadata": {
        "id": "IHHAGBNfZP2x"
      },
      "execution_count": null,
      "outputs": []
    }
  ]
}